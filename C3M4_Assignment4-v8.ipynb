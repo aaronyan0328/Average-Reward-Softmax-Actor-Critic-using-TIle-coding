{
 "cells": [
  {
   "cell_type": "markdown",
   "metadata": {
    "deletable": false,
    "editable": false,
    "nbgrader": {
     "checksum": "c004350cd25d3b1075afcf8b7b244cc6",
     "grade": false,
     "grade_id": "cell-2adc36b256efc420",
     "locked": true,
     "schema_version": 1,
     "solution": false
    }
   },
   "source": [
    "# Assignment 4 - Average Reward Softmax Actor-Critic\n",
    "\n",
    "Welcome to your Course 3 Programming Assignment 4. In this assignment, you will implement **Average Reward Softmax Actor-Critic** in the Pendulum Swing-Up problem that you have seen earlier in the lecture. Through this assignment you will get hands-on experience in implementing actor-critic methods on a continuing task.\n",
    "\n",
    "**In this assignment, you will:**\n",
    "    1. Implement softmax actor-critic agent on a continuing task using the average reward formulation.\n",
    "    2. Understand how to parameterize the policy as a function to learn, in a discrete action environment.\n",
    "    3. Understand how to (approximately) sample the gradient of this objective to update the actor.\n",
    "    4. Understand how to update the critic using differential TD error.\n"
   ]
  },
  {
   "cell_type": "markdown",
   "metadata": {
    "deletable": false,
    "editable": false,
    "nbgrader": {
     "checksum": "282b307e98de110dd40a15a6cc25ec5d",
     "grade": false,
     "grade_id": "cell-99df6e3a990f9278",
     "locked": true,
     "schema_version": 1,
     "solution": false
    }
   },
   "source": [
    "## Pendulum Swing-Up Environment\n",
    "\n",
    "In this assignment, we will be using a Pendulum environment, adapted from [Santamaría et al. (1998)](http://www.incompleteideas.net/papers/SSR-98.pdf). This is also the same environment that we used in the lecture. The diagram below illustrates the environment.\n",
    "\n",
    "<img src=\"data/pendulum_env.png\" alt=\"Drawing\" style=\"width: 400px;\"/>\n",
    "\n",
    "The environment consists of single pendulum that can swing 360 degrees. The pendulum is actuated by applying a torque on its pivot point. The goal is to get the pendulum to balance up-right from its resting position (hanging down at the bottom with no velocity) and maintain it as long as possible. The pendulum can move freely, subject only to gravity and the action applied by the agent. \n",
    "\n",
    "The state is 2-dimensional, which consists of the current angle $\\beta \\in [-\\pi, \\pi]$ (angle from the vertical upright position) and current angular velocity $\\dot{\\beta} \\in (-2\\pi, 2\\pi)$. The angular velocity is constrained in order to avoid damaging the pendulum system. If the angular velocity reaches this limit during simulation, the pendulum is reset to the resting position. \n",
    "The action is the angular acceleration, with discrete values $a \\in \\{-1, 0, 1\\}$ applied to the pendulum.\n",
    "For more details on environment dynamics you can refer to the original paper.\n",
    "\n",
    "The goal is to swing-up the pendulum and maintain its upright angle. Hence, the reward is the negative absolute angle from the vertical position: $R_{t} = -|\\beta_{t}|$\n",
    "\n",
    "Furthermore, since the goal is to reach and maintain a vertical position, there are no terminations nor episodes. Thus this problem can be formulated as a continuing task.\n",
    "\n",
    "Similar to the Mountain Car task, the action in this pendulum environment is not strong enough to move the pendulum directly to the desired position. The agent must learn to first move the pendulum away from its desired position and gain enough momentum to successfully swing-up the pendulum. And even after reaching the upright position the agent must learn to continually balance the pendulum in this unstable position."
   ]
  },
  {
   "cell_type": "markdown",
   "metadata": {
    "deletable": false,
    "editable": false,
    "nbgrader": {
     "checksum": "17075aa4f743d7ce32b468322a340a07",
     "grade": false,
     "grade_id": "cell-72dc8196386b12dd",
     "locked": true,
     "schema_version": 1,
     "solution": false
    }
   },
   "source": [
    "## Packages\n",
    "\n",
    "You will use the following packages in this assignment.\n",
    "\n",
    "- [numpy](www.numpy.org) : Fundamental package for scientific computing with Python.\n",
    "- [matplotlib](http://matplotlib.org) : Library for plotting graphs in Python.\n",
    "- [RL-Glue](http://www.jmlr.org/papers/v10/tanner09a.html) : Library for reinforcement learning experiments.\n",
    "- [jdc](https://alexhagen.github.io/jdc/) : Jupyter magic that allows defining classes over multiple jupyter notebook cells.\n",
    "- [tqdm](https://tqdm.github.io/) : A package to display progress bar when running experiments\n",
    "- plot_script : custom script to plot results\n",
    "- [tiles3](http://incompleteideas.net/tiles/tiles3.html) : A package that implements tile-coding.\n",
    "- pendulum_env : Pendulum Swing-up Environment\n",
    "\n",
    "**Please do not import other libraries** — this will break the autograder.\n"
   ]
  },
  {
   "cell_type": "code",
   "execution_count": 1,
   "metadata": {
    "deletable": false,
    "editable": false,
    "nbgrader": {
     "checksum": "c45e0038609a4d2ab65c82e7866ac17a",
     "grade": false,
     "grade_id": "cell-df277e2f962adb8c",
     "locked": true,
     "schema_version": 1,
     "solution": false
    }
   },
   "outputs": [],
   "source": [
    "# Do not modify this cell!\n",
    "\n",
    "# Import necessary libraries\n",
    "# DO NOT IMPORT OTHER LIBRARIES - This will break the autograder.\n",
    "import numpy as np\n",
    "import matplotlib.pyplot as plt\n",
    "%matplotlib inline\n",
    "\n",
    "import os\n",
    "from tqdm import tqdm\n",
    "\n",
    "from rl_glue import RLGlue\n",
    "from pendulum_env import PendulumEnvironment\n",
    "from agent import BaseAgent\n",
    "import plot_script\n",
    "import tiles3 as tc"
   ]
  },
  {
   "cell_type": "markdown",
   "metadata": {
    "deletable": false,
    "editable": false,
    "nbgrader": {
     "checksum": "eca68945ea0514012d2e6fb9e32cdb58",
     "grade": false,
     "grade_id": "cell-ab47eee3b7f7d678",
     "locked": true,
     "schema_version": 1,
     "solution": false
    }
   },
   "source": [
    "## Section 1: Create Tile Coding Helper Function\n",
    "\n",
    "In this section, we are going to build a tile coding class for our agent that will make it easier to make calls to our tile coder.\n",
    "\n",
    "Tile-coding is introduced in Section 9.5.4 of the textbook as a way to create features that can both provide good generalization and discrimination. We have already used it in our last programming assignment as well. \n",
    "\n",
    "Similar to the last programming assignment, we are going to make a function specific for tile coding for our Pendulum Swing-up environment. We will also use the [Tiles3 library](http://incompleteideas.net/tiles/tiles3.html).\n",
    "\n",
    "To get the tile coder working we need to:\n",
    "\n",
    "    1) create an index hash table using tc.IHT(), \n",
    "    2) scale the inputs for the tile coder based on number of tiles and range of values each input could take\n",
    "    3) call tc.tileswrap to get active tiles back.\n",
    "\n",
    "However, we need to make one small change to this tile coder.\n",
    "Note that in this environment the state space contains angle, which is between $[-\\pi, \\pi]$. If we tile-code this state space in the usual way, the agent may think the value of states corresponding to an angle of $-\\pi$ is very different from angle of $\\pi$ when in fact they are the same! To remedy this and allow generalization between angle $= -\\pi$ and angle $= \\pi$, we need to use **wrap tile coder**.\n",
    "\n",
    "The usage of wrap tile coder is almost identical to the original tile coder, except that we also need to provide the `wrapwidth` argument for the dimension we want to wrap over (hence only for angle, and `None` for angular velocity). More details of wrap tile coder is also provided in [Tiles3 library](http://incompleteideas.net/tiles/tiles3.html).\n"
   ]
  },
  {
   "cell_type": "code",
   "execution_count": 2,
   "metadata": {
    "deletable": false,
    "nbgrader": {
     "checksum": "6c16c849417bf1b801731e16f4e3a151",
     "grade": false,
     "grade_id": "cell-e4e31210465e6d0f",
     "locked": false,
     "schema_version": 1,
     "solution": true
    }
   },
   "outputs": [],
   "source": [
    "# [Graded]\n",
    "class PendulumTileCoder:\n",
    "    def __init__(self, iht_size=4096, num_tilings=32, num_tiles=8):\n",
    "        \"\"\"\n",
    "        Initializes the MountainCar Tile Coder\n",
    "        Initializers:\n",
    "        iht_size -- int, the size of the index hash table, typically a power of 2\n",
    "        num_tilings -- int, the number of tilings\n",
    "        num_tiles -- int, the number of tiles. Here both the width and height of the tiles are the same\n",
    "                            \n",
    "        Class Variables:\n",
    "        self.iht -- tc.IHT, the index hash table that the tile coder will use\n",
    "        self.num_tilings -- int, the number of tilings the tile coder will use\n",
    "        self.num_tiles -- int, the number of tiles the tile coder will use\n",
    "        \"\"\"\n",
    "        \n",
    "        self.num_tilings = num_tilings\n",
    "        self.num_tiles = num_tiles \n",
    "        self.iht = tc.IHT(iht_size)\n",
    "    \n",
    "    def get_tiles(self, angle, ang_vel):\n",
    "        \"\"\"\n",
    "        Takes in an angle and angular velocity from the pendulum environment\n",
    "        and returns a numpy array of active tiles.\n",
    "        \n",
    "        Arguments:\n",
    "        angle -- float, the angle of the pendulum between -np.pi and np.pi\n",
    "        ang_vel -- float, the angular velocity of the agent between -2*np.pi and 2*np.pi\n",
    "        \n",
    "        returns:\n",
    "        tiles -- np.array, active tiles\n",
    "        \n",
    "        \"\"\"\n",
    "        \n",
    "        ### Set the max and min of angle and ang_vel to scale the input (4 lines)\n",
    "        # ANGLE_MIN = ?\n",
    "        # ANGLE_MAX = ?\n",
    "        # ANG_VEL_MIN = ?\n",
    "        # ANG_VEL_MAX = ?\n",
    "        ### START CODE HERE ###\n",
    "        ANGLE_MIN = - np.pi\n",
    "        ANGLE_MAX = np.pi\n",
    "        ANG_VEL_MIN = - 2 * np.pi\n",
    "        ANG_VEL_MAX = 2 * np.pi\n",
    "        ### END CODE HERE ###\n",
    "\n",
    "        \n",
    "        ### Use the ranges above and self.num_tiles to set angle_scale and ang_vel_scale (2 lines)\n",
    "        # angle_scale = number of tiles / angle range\n",
    "        # ang_vel_scale = number of tiles / ang_vel range\n",
    "        \n",
    "        ### START CODE HERE ###\n",
    "        angle_scale = self.num_tiles / (ANGLE_MAX - ANGLE_MIN)\n",
    "        ang_vel_scale = self.num_tiles / (ANG_VEL_MAX - ANG_VEL_MIN)\n",
    "        ### END CODE HERE ###\n",
    "        \n",
    "        \n",
    "        # Get tiles by calling tc.tileswrap method\n",
    "        # wrapwidths specify which dimension to wrap over and its wrapwidth\n",
    "        tiles = tc.tileswrap(self.iht, self.num_tilings, [angle * angle_scale, ang_vel * ang_vel_scale], wrapwidths=[self.num_tiles, False])\n",
    "                    \n",
    "        return np.array(tiles)"
   ]
  },
  {
   "cell_type": "markdown",
   "metadata": {
    "deletable": false,
    "editable": false,
    "nbgrader": {
     "checksum": "4b02f0fce6904c39ace01c263ee80ead",
     "grade": false,
     "grade_id": "cell-1d990f692063303c",
     "locked": true,
     "schema_version": 1,
     "solution": false
    }
   },
   "source": [
    "Run the following code to verify `PendulumTilecoder`"
   ]
  },
  {
   "cell_type": "code",
   "execution_count": 3,
   "metadata": {
    "deletable": false,
    "editable": false,
    "nbgrader": {
     "checksum": "d118544172252ec03f5b282817ff263e",
     "grade": true,
     "grade_id": "graded_tilecoder",
     "locked": true,
     "points": 15,
     "schema_version": 1,
     "solution": false
    }
   },
   "outputs": [
    {
     "name": "stdout",
     "output_type": "stream",
     "text": [
      "[0 1 2 3 4 5 6 7]\n",
      "[0 1 2 3 4 8 6 7]\n",
      "[0 1 2 3 4 5 6 7]\n",
      "[ 9  1  2 10  4  5  6  7]\n",
      "[11 12 13 14 15 16 17 18]\n"
     ]
    }
   ],
   "source": [
    "# Do not modify this cell!\n",
    "\n",
    "## Test Code for PendulumTileCoder ##\n",
    "# Your tile coder should also work for other num. tilings and num. tiles\n",
    "test_obs = [[-np.pi, 0], [-np.pi, 0.5], [np.pi, 0], [np.pi, -0.5], [0, 1]]\n",
    "\n",
    "pdtc = PendulumTileCoder(iht_size=4096, num_tilings=8, num_tiles=4)\n",
    "\n",
    "result=[]\n",
    "for obs in test_obs:\n",
    "    angle, ang_vel = obs\n",
    "    tiles = pdtc.get_tiles(angle=angle, ang_vel=ang_vel)\n",
    "    result.append(tiles)\n",
    "    \n",
    "for tiles in result:\n",
    "    print(tiles)\n",
    "    "
   ]
  },
  {
   "cell_type": "markdown",
   "metadata": {
    "deletable": false,
    "editable": false,
    "nbgrader": {
     "checksum": "f8ae6af80e2bd513ac3562ccde6bebc1",
     "grade": false,
     "grade_id": "cell-44b88917a2825241",
     "locked": true,
     "schema_version": 1,
     "solution": false
    }
   },
   "source": [
    "**Expected output**:\n",
    "\n",
    "    [0 1 2 3 4 5 6 7]\n",
    "    [0 1 2 3 4 8 6 7]\n",
    "    [0 1 2 3 4 5 6 7]\n",
    "    [ 9  1  2 10  4  5  6  7]\n",
    "    [11 12 13 14 15 16 17 18]"
   ]
  },
  {
   "cell_type": "markdown",
   "metadata": {
    "deletable": false,
    "editable": false,
    "nbgrader": {
     "checksum": "4ef6492853db03e0ee980ea374723cb8",
     "grade": false,
     "grade_id": "cell-78613720dae0e08a",
     "locked": true,
     "schema_version": 1,
     "solution": false
    }
   },
   "source": [
    "## Section 2: Create Average Reward Softmax Actor-Critic Agent\n",
    "\n",
    "Now that we implemented PendulumTileCoder let's create the agent that interacts with the environment. We will implement the same average reward Actor-Critic algorithm presented in the videos.\n",
    "\n",
    "This agent has two components: an Actor and a Critic. The Actor learns a parameterized policy while the Critic learns a state-value function. The environment has discrete actions; your Actor implementation will use a softmax policy with exponentiated action-preferences. The Actor learns with the sample-based estimate for the gradient of the average reward objective. The Critic learns using the average reward version of the semi-gradient TD(0) algorithm.\n",
    "\n",
    "In this section, you will be implementing `agent_policy`, `agent_start`, `agent_step`, and `agent_end`."
   ]
  },
  {
   "cell_type": "markdown",
   "metadata": {
    "deletable": false,
    "editable": false,
    "nbgrader": {
     "checksum": "828614763989884f1e80f0e16218325a",
     "grade": false,
     "grade_id": "cell-3676d253ce82f3e3",
     "locked": true,
     "schema_version": 1,
     "solution": false
    }
   },
   "source": [
    "## Section 2-1: Implement Helper Functions\n",
    "\n",
    "Let's first define a couple of useful helper functions."
   ]
  },
  {
   "cell_type": "markdown",
   "metadata": {
    "deletable": false,
    "editable": false,
    "nbgrader": {
     "checksum": "8d96bc09e1ea682556c7f8fedc790c64",
     "grade": false,
     "grade_id": "cell-fd6ef7407bc3283d",
     "locked": true,
     "schema_version": 1,
     "solution": false
    }
   },
   "source": [
    "## Section 2-1a: Compute Softmax Probability\n",
    "\n",
    "In this part you will implement `compute_softmax_prob`.\n",
    "\n",
    "This function computes softmax probability for all actions, given actor weights `actor_w` and active tiles `tiles`. This function will be later used in `agent_policy` to sample appropriate action.\n",
    "\n",
    "First, recall how the softmax policy is represented from state-action preferences: $\\large \\pi(a|s, \\mathbf{\\theta}) \\doteq \\frac{e^{h(s,a,\\mathbf{\\theta})}}{\\sum_{b}e^{h(s,b,\\mathbf{\\theta})}}$.\n",
    "\n",
    "**state-action preference** is defined as $h(s,a, \\mathbf{\\theta}) \\doteq \\mathbf{\\theta}^T \\mathbf{x}_h(s,a)$.\n",
    "\n",
    "Given active tiles `tiles` for state `s`, state-action preference $\\mathbf{\\theta}^T \\mathbf{x}_h(s,a)$ can be computed by `actor_w[a][tiles].sum()`.\n",
    "\n",
    "We will also use **exp-normalize trick**, in order to avoid possible numerical overflow. \n",
    "Consider the following:\n",
    "\n",
    "$\\large \\pi(a|s, \\mathbf{\\theta}) \\doteq \\frac{e^{h(s,a,\\mathbf{\\theta})}}{\\sum_{b}e^{h(s,b,\\mathbf{\\theta})}} = \\frac{e^{h(s,a,\\mathbf{\\theta}) - c} e^c}{\\sum_{b}e^{h(s,b,\\mathbf{\\theta}) - c} e^c} = \\frac{e^{h(s,a,\\mathbf{\\theta}) - c}}{\\sum_{b}e^{h(s,b,\\mathbf{\\theta}) - c}}$ \n",
    "\n",
    "$\\pi(\\cdot|s, \\mathbf{\\theta})$ is shift-invariant, and the policy remains the same when we subtract a constant $c \\in \\mathbb{R}$ from state-action preferences.\n",
    "\n",
    "Normally we use $c = \\max_b h(s,b, \\mathbf{\\theta})$, to prevent any overflow due to exponentiating large numbers."
   ]
  },
  {
   "cell_type": "code",
   "execution_count": 4,
   "metadata": {
    "deletable": false,
    "nbgrader": {
     "checksum": "4540ff160f7a874ad3ee99deae10bbcb",
     "grade": false,
     "grade_id": "cell-9daa349ce740c93d",
     "locked": false,
     "schema_version": 1,
     "solution": true
    }
   },
   "outputs": [],
   "source": [
    "# [Graded]\n",
    "\n",
    "def compute_softmax_prob(actor_w, tiles):\n",
    "    \"\"\"\n",
    "    Computes softmax probability for all actions\n",
    "    \n",
    "    Args:\n",
    "    actor_w - np.array, an array of actor weights\n",
    "    tiles - np.array, an array of active tiles\n",
    "    \n",
    "    Returns:\n",
    "    softmax_prob - np.array, an array of size equal to num. actions, and sums to 1.\n",
    "    \"\"\"\n",
    "    \n",
    "    # First compute the list of state-action preferences (1~2 lines)\n",
    "    # state_action_preferences = ? (list of size 3)\n",
    "    state_action_preferences = []\n",
    "    ### START CODE HERE ###\n",
    "    for action in range(actor_w.shape[0]):\n",
    "        state_action_preferences.append(actor_w[action][tiles].sum())\n",
    "    ### END CODE HERE ###\n",
    "    \n",
    "    # Set the constant c by finding the maximum of state-action preferences (use np.max) (1 line)\n",
    "    # c = ? (float)\n",
    "    ### START CODE HERE ###\n",
    "    c = np.max(state_action_preferences)\n",
    "    ### END CODE HERE ###\n",
    "    \n",
    "    # Compute the numerator by subtracting c from state-action preferences and exponentiating it (use np.exp) (1 line)\n",
    "    # numerator = ? (list of size 3)\n",
    "    ### START CODE HERE ###\n",
    "    numerator = np.exp(state_action_preferences - c)\n",
    "    ### END CODE HERE ###\n",
    "    \n",
    "    # Next compute the denominator by summing the values in the numerator (use np.sum) (1 line)\n",
    "    # denominator = ? (float)\n",
    "    ### START CODE HERE ###\n",
    "    denominator = np.sum(numerator)\n",
    "    ### END CODE HERE ###\n",
    "    \n",
    "    \n",
    "    # Create a probability array by dividing each element in numerator array by denominator (1 line)\n",
    "    # We will store this probability array in self.softmax_prob as it will be useful later when updating the Actor\n",
    "    # softmax_prob = ? (list of size 3)\n",
    "    ### START CODE HERE ###\n",
    "    softmax_prob = numerator / denominator\n",
    "    ### END CODE HERE ###\n",
    "    \n",
    "    return softmax_prob"
   ]
  },
  {
   "cell_type": "markdown",
   "metadata": {
    "deletable": false,
    "editable": false,
    "nbgrader": {
     "checksum": "219d176a243b4cc8105fadc7f200c8cd",
     "grade": false,
     "grade_id": "cell-6746fb79fd66fca9",
     "locked": true,
     "schema_version": 1,
     "solution": false
    }
   },
   "source": [
    "Run the following code to verify `compute_softmax_prob`.\n",
    "\n",
    "We will test the method by building a softmax policy from state-action preferences [-1,1,2].\n",
    "\n",
    "The sampling probability should then roughly match $[\\frac{e^{-1}}{e^{-1}+e^1+e^2}, \\frac{e^{1}}{e^{-1}+e^1+e^2}, \\frac{e^2}{e^{-1}+e^1+e^2}] \\approx$ [0.0351, 0.2595, 0.7054]"
   ]
  },
  {
   "cell_type": "code",
   "execution_count": 5,
   "metadata": {
    "deletable": false,
    "editable": false,
    "nbgrader": {
     "checksum": "3ff8eb422e5265e03f5b265eb23bdb58",
     "grade": true,
     "grade_id": "graded_compute_softmax_prob",
     "locked": true,
     "points": 20,
     "schema_version": 1,
     "solution": false
    }
   },
   "outputs": [
    {
     "name": "stdout",
     "output_type": "stream",
     "text": [
      "softmax probability: [0.03511903 0.25949646 0.70538451]\n"
     ]
    }
   ],
   "source": [
    "# Do not modify this cell!\n",
    "\n",
    "## Test Code for compute_softmax_prob() ##\n",
    "\n",
    "# set tile-coder\n",
    "iht_size = 4096\n",
    "num_tilings = 8\n",
    "num_tiles = 8\n",
    "test_tc = PendulumTileCoder(iht_size=iht_size, num_tilings=num_tilings, num_tiles=num_tiles)\n",
    "\n",
    "num_actions = 3\n",
    "actions = list(range(num_actions))\n",
    "actor_w = np.zeros((len(actions), iht_size))\n",
    "\n",
    "# setting actor weights such that state-action preferences are always [-1, 1, 2]\n",
    "actor_w[0] = -1./num_tilings\n",
    "actor_w[1] = 1./num_tilings\n",
    "actor_w[2] = 2./num_tilings\n",
    "\n",
    "# obtain active_tiles from state\n",
    "state = [-np.pi, 0.]\n",
    "angle, ang_vel = state\n",
    "active_tiles = test_tc.get_tiles(angle, ang_vel)\n",
    "\n",
    "# compute softmax probability\n",
    "softmax_prob = compute_softmax_prob(actor_w, active_tiles) \n",
    "print('softmax probability: {}'.format(softmax_prob))\n"
   ]
  },
  {
   "cell_type": "markdown",
   "metadata": {
    "deletable": false,
    "editable": false,
    "nbgrader": {
     "checksum": "b93e7c56f4632a1651adf5b0bbfd75e5",
     "grade": false,
     "grade_id": "cell-77f00606b70a1d25",
     "locked": true,
     "schema_version": 1,
     "solution": false
    }
   },
   "source": [
    "**Expected Output:**\n",
    "\n",
    "    softmax probability: [0.03511903 0.25949646 0.70538451]"
   ]
  },
  {
   "cell_type": "markdown",
   "metadata": {
    "deletable": false,
    "editable": false,
    "nbgrader": {
     "checksum": "a2f94be0165e918d0886453a691fea1b",
     "grade": false,
     "grade_id": "cell-eed6babe9b563391",
     "locked": true,
     "schema_version": 1,
     "solution": false
    }
   },
   "source": [
    "## Section 2-2: Implement Agent Methods\n",
    "\n",
    "Let's first define methods that initialize the agent. `agent_init()` initializes all the variables that the agent will need.\n",
    "\n",
    "Now that we have implemented helper functions, let's create an agent. In this part, you will implement `agent_start()` and `agent_step()`. We do not need to implement `agent_end()` because there is no termination in our continuing task. \n",
    "\n",
    "`compute_softmax_prob()` is used in `agent_policy()`, which in turn will be used in `agent_start()` and `agent_step()`. We have implemented `agent_policy()` for you.\n",
    "\n",
    "When performing updates to the Actor and Critic, recall their respective updates in the Actor-Critic algorithm video.\n",
    "\n",
    "We approximate $q_\\pi$ in the Actor update using one-step bootstrapped return($R_{t+1} - \\bar{R} + \\hat{v}(S_{t+1}, \\mathbf{w})$) subtracted by current state-value($\\hat{v}(S_{t}, \\mathbf{w})$), equivalent to TD error $\\delta$.\n",
    "\n",
    "$\\delta_t = R_{t+1} - \\bar{R} + \\hat{v}(S_{t+1}, \\mathbf{w}) - \\hat{v}(S_{t}, \\mathbf{w}) \\hspace{6em} (1)$\n",
    "\n",
    "**Average Reward update rule**: $\\bar{R} \\leftarrow \\bar{R} + \\alpha^{\\bar{R}}\\delta \\hspace{4.3em} (2)$\n",
    "\n",
    "**Critic weight update rule**: $\\mathbf{w} \\leftarrow \\mathbf{w} + \\alpha^{\\mathbf{w}}\\delta\\nabla \\hat{v}(s,\\mathbf{w}) \\hspace{2.5em} (3)$\n",
    "\n",
    "**Actor weight update rule**: $\\mathbf{\\theta} \\leftarrow \\mathbf{\\theta} + \\alpha^{\\mathbf{\\theta}}\\delta\\nabla ln \\pi(A|S,\\mathbf{\\theta}) \\hspace{1.4em} (4)$\n",
    "\n",
    "\n",
    "However, since we are using linear function approximation and parameterizing a softmax policy, the above update rule can be further simplified using:\n",
    "\n",
    "$\\nabla \\hat{v}(s,\\mathbf{w}) = \\mathbf{x}(s) \\hspace{14.2em} (5)$\n",
    "\n",
    "$\\nabla ln \\pi(A|S,\\mathbf{\\theta}) = \\mathbf{x}_h(s,a) - \\sum_b \\pi(b|s, \\mathbf{\\theta})\\mathbf{x}_h(s,b) \\hspace{3.3em} (6)$\n"
   ]
  },
  {
   "cell_type": "code",
   "execution_count": 6,
   "metadata": {
    "deletable": false,
    "nbgrader": {
     "checksum": "7477f1cdf96f2bd8bafd07abfbd201a2",
     "grade": false,
     "grade_id": "cell-a25279b09b459f5c",
     "locked": false,
     "schema_version": 1,
     "solution": true
    }
   },
   "outputs": [],
   "source": [
    "# [Graded]\n",
    "\n",
    "class ActorCriticSoftmaxAgent(BaseAgent): \n",
    "    def __init__(self):\n",
    "        self.rand_generator = None\n",
    "\n",
    "        self.actor_step_size = None\n",
    "        self.critic_step_size = None\n",
    "        self.avg_reward_step_size = None\n",
    "\n",
    "        self.tc = None\n",
    "\n",
    "        self.avg_reward = None\n",
    "        self.critic_w = None\n",
    "        self.actor_w = None\n",
    "\n",
    "        self.actions = None\n",
    "\n",
    "        self.softmax_prob = None\n",
    "        self.prev_tiles = None\n",
    "        self.last_action = None\n",
    "    \n",
    "    def agent_init(self, agent_info={}):\n",
    "        \"\"\"Setup for the agent called when the experiment first starts.\n",
    "\n",
    "        Set parameters needed to setup the semi-gradient TD(0) state aggregation agent.\n",
    "\n",
    "        Assume agent_info dict contains:\n",
    "        {\n",
    "            \"iht_size\": int\n",
    "            \"num_tilings\": int,\n",
    "            \"num_tiles\": int,\n",
    "            \"actor_step_size\": float,\n",
    "            \"critic_step_size\": float,\n",
    "            \"avg_reward_step_size\": float,\n",
    "            \"num_actions\": int,\n",
    "            \"seed\": int\n",
    "        }\n",
    "        \"\"\"\n",
    "\n",
    "        # set random seed for each run\n",
    "        self.rand_generator = np.random.RandomState(agent_info.get(\"seed\")) \n",
    "\n",
    "        iht_size = agent_info.get(\"iht_size\")\n",
    "        num_tilings = agent_info.get(\"num_tilings\")\n",
    "        num_tiles = agent_info.get(\"num_tiles\")\n",
    "\n",
    "        # initialize self.tc to the tile coder we created\n",
    "        self.tc = PendulumTileCoder(iht_size=iht_size, num_tilings=num_tilings, num_tiles=num_tiles)\n",
    "\n",
    "        # set step-size accordingly (we normally divide actor and critic step-size by num. tilings (p.217-218 of textbook))\n",
    "        self.actor_step_size = agent_info.get(\"actor_step_size\")/num_tilings\n",
    "        self.critic_step_size = agent_info.get(\"critic_step_size\")/num_tilings\n",
    "        self.avg_reward_step_size = agent_info.get(\"avg_reward_step_size\")\n",
    "\n",
    "        self.actions = list(range(agent_info.get(\"num_actions\")))\n",
    "\n",
    "        # Set initial values of average reward, actor weights, and critic weights\n",
    "        # We initialize actor weights to three times the iht_size. \n",
    "        # Recall this is because we need to have one set of weights for each of the three actions.\n",
    "        self.avg_reward = 0.0\n",
    "        self.actor_w = np.zeros((len(self.actions), iht_size))\n",
    "        self.critic_w = np.zeros(iht_size)\n",
    "\n",
    "        self.softmax_prob = None\n",
    "        self.prev_tiles = None\n",
    "        self.last_action = None\n",
    "    \n",
    "    def agent_policy(self, active_tiles):\n",
    "        \"\"\" policy of the agent\n",
    "        Args:\n",
    "            active_tiles (Numpy array): active tiles returned by tile coder\n",
    "            \n",
    "        Returns:\n",
    "            The action selected according to the policy\n",
    "        \"\"\"\n",
    "        \n",
    "        # compute softmax probability\n",
    "        softmax_prob = compute_softmax_prob(self.actor_w, active_tiles)\n",
    "        \n",
    "        # Sample action from the softmax probability array\n",
    "        # self.rand_generator.choice() selects an element from the array with the specified probability\n",
    "        chosen_action = self.rand_generator.choice(self.actions, p=softmax_prob)\n",
    "        \n",
    "        # save softmax_prob as it will be useful later when updating the Actor\n",
    "        self.softmax_prob = softmax_prob\n",
    "        \n",
    "        return chosen_action\n",
    "\n",
    "    def agent_start(self, state):\n",
    "        \"\"\"The first method called when the experiment starts, called after\n",
    "        the environment starts.\n",
    "        Args:\n",
    "            state (Numpy array): the state from the environment's env_start function.\n",
    "        Returns:\n",
    "            The first action the agent takes.\n",
    "        \"\"\"\n",
    "\n",
    "        angle, ang_vel = state\n",
    "\n",
    "        ### Use self.tc to get active_tiles using angle and ang_vel (2 lines)\n",
    "        # set current_action by calling self.agent_policy with active_tiles\n",
    "        # active_tiles = ?\n",
    "        # current_action = ?\n",
    "\n",
    "        ### START CODE HERE ###\n",
    "        active_tiles = self.tc.get_tiles(state[0],state[1])\n",
    "        current_action = self.agent_policy(active_tiles)\n",
    "        ### END CODE HERE ###\n",
    "\n",
    "        self.last_action = current_action\n",
    "        self.prev_tiles = np.copy(active_tiles)\n",
    "\n",
    "        return self.last_action\n",
    "\n",
    "\n",
    "    def agent_step(self, reward, state):\n",
    "        \"\"\"A step taken by the agent.\n",
    "        Args:\n",
    "            reward (float): the reward received for taking the last action taken\n",
    "            state (Numpy array): the state from the environment's step based on \n",
    "                                where the agent ended up after the\n",
    "                                last step.\n",
    "        Returns:\n",
    "            The action the agent is taking.\n",
    "        \"\"\"\n",
    "\n",
    "        angle, ang_vel = state\n",
    "\n",
    "        ### Use self.tc to get active_tiles using angle and ang_vel (1 line)\n",
    "        # active_tiles = ?    \n",
    "        ### START CODE HERE ###\n",
    "        active_tiles = self.tc.get_tiles(state[0],state[1])\n",
    "        ### END CODE HERE ###\n",
    "\n",
    "        ### Compute delta using Equation (1) (1 line)\n",
    "        # delta = ?\n",
    "        ### START CODE HERE ###\n",
    "        delta = reward - self.avg_reward + self.critic_w[active_tiles].sum() - self.critic_w[self.prev_tiles].sum()\n",
    "        ### END CODE HERE ###\n",
    "\n",
    "        ### update average reward using Equation (2) (1 line)\n",
    "        # self.avg_reward += ?\n",
    "        ### START CODE HERE ###\n",
    "        self.avg_reward += self.avg_reward_step_size * delta\n",
    "        ### END CODE HERE ###\n",
    "\n",
    "        # update critic weights using Equation (3) and (5) (1 line)\n",
    "        # self.critic_w[self.prev_tiles] += ?\n",
    "        ### START CODE HERE ###\n",
    "        self.critic_w[self.prev_tiles] += self.critic_step_size * delta\n",
    "        ### END CODE HERE ###\n",
    "\n",
    "        # update actor weights using Equation (4) and (6)\n",
    "        # We use self.softmax_prob saved from the previous timestep\n",
    "        # We leave it as an exercise to verify that the code below corresponds to the equation.\n",
    "        for a in self.actions:\n",
    "            if a == self.last_action:\n",
    "                self.actor_w[a][self.prev_tiles] += self.actor_step_size * delta * (1 - self.softmax_prob[a])\n",
    "            else:\n",
    "                self.actor_w[a][self.prev_tiles] += self.actor_step_size * delta * (0 - self.softmax_prob[a])\n",
    "\n",
    "        ### set current_action by calling self.agent_policy with active_tiles (1 line)\n",
    "        # current_action = ? \n",
    "        ### START CODE HERE ###\n",
    "        current_action = self.agent_policy(active_tiles)\n",
    "        ### END CODE HERE ###\n",
    "\n",
    "        self.prev_tiles = active_tiles\n",
    "        self.last_action = current_action\n",
    "\n",
    "        return self.last_action\n",
    "\n",
    "\n",
    "    def agent_message(self, message):\n",
    "        if message == 'get avg reward':\n",
    "            return self.avg_reward\n"
   ]
  },
  {
   "cell_type": "markdown",
   "metadata": {
    "deletable": false,
    "editable": false,
    "nbgrader": {
     "checksum": "0abe20eda4a3c9f6781959352dab4748",
     "grade": false,
     "grade_id": "cell-c47a537224d052ad",
     "locked": true,
     "schema_version": 1,
     "solution": false
    }
   },
   "source": [
    "Run the following code to verify `agent_start()`.\n",
    "Although there is randomness due to `self.rand_generator.choice()` in `agent_policy()`, we control the seed so your output should match the expected output. "
   ]
  },
  {
   "cell_type": "code",
   "execution_count": 7,
   "metadata": {
    "deletable": false,
    "editable": false,
    "nbgrader": {
     "checksum": "40a531b5ef11d53daca1ce9f8544dfb0",
     "grade": true,
     "grade_id": "graded_agent_start",
     "locked": true,
     "points": 10,
     "schema_version": 1,
     "solution": false
    }
   },
   "outputs": [
    {
     "name": "stdout",
     "output_type": "stream",
     "text": [
      "agent active_tiles: [0 1 2 3 4 5 6 7]\n",
      "agent selected action: 2\n"
     ]
    }
   ],
   "source": [
    "# Do not modify this cell!\n",
    "## Test Code for agent_start()## \n",
    "\n",
    "agent_info = {\"iht_size\": 4096,\n",
    "              \"num_tilings\": 8,\n",
    "              \"num_tiles\": 8,\n",
    "              \"actor_step_size\": 1e-1,\n",
    "              \"critic_step_size\": 1e-0,\n",
    "              \"avg_reward_step_size\": 1e-2,\n",
    "              \"num_actions\": 3,\n",
    "              \"seed\": 99}\n",
    "\n",
    "test_agent = ActorCriticSoftmaxAgent()\n",
    "test_agent.agent_init(agent_info)\n",
    "\n",
    "state = [-np.pi, 0.]\n",
    "\n",
    "test_agent.agent_start(state)\n",
    "\n",
    "print(\"agent active_tiles: {}\".format(test_agent.prev_tiles))\n",
    "print(\"agent selected action: {}\".format(test_agent.last_action))\n"
   ]
  },
  {
   "cell_type": "markdown",
   "metadata": {
    "deletable": false,
    "editable": false,
    "nbgrader": {
     "checksum": "c7e0ca514f7c96e8e6beb2cf9304758e",
     "grade": false,
     "grade_id": "cell-4bb285c764d8ad67",
     "locked": true,
     "schema_version": 1,
     "solution": false
    }
   },
   "source": [
    "**Expected output**:\n",
    "\n",
    "    agent active_tiles: [0 1 2 3 4 5 6 7]\n",
    "    agent selected action: 2"
   ]
  },
  {
   "cell_type": "markdown",
   "metadata": {
    "deletable": false,
    "editable": false,
    "nbgrader": {
     "checksum": "bb016e27cf1ece334e66e895094ef089",
     "grade": false,
     "grade_id": "cell-a3d392998465216c",
     "locked": true,
     "schema_version": 1,
     "solution": false
    }
   },
   "source": [
    "Run the following code to verify `agent_step()`"
   ]
  },
  {
   "cell_type": "code",
   "execution_count": 8,
   "metadata": {
    "deletable": false,
    "editable": false,
    "nbgrader": {
     "checksum": "d62013f0d2b33e3e7ed30f86264dc84d",
     "grade": true,
     "grade_id": "graded_agent_step",
     "locked": true,
     "points": 25,
     "schema_version": 1,
     "solution": false
    }
   },
   "outputs": [
    {
     "name": "stdout",
     "output_type": "stream",
     "text": [
      "agent next_action: 1\n",
      "agent avg reward: -0.03139092653589793\n",
      "\n",
      "agent first 10 values of actor weights[0]: \n",
      "[0.01307955 0.01307955 0.01307955 0.01307955 0.01307955 0.01307955\n",
      " 0.01307955 0.01307955 0.         0.        ]\n",
      "\n",
      "agent first 10 values of actor weights[1]: \n",
      "[0.01307955 0.01307955 0.01307955 0.01307955 0.01307955 0.01307955\n",
      " 0.01307955 0.01307955 0.         0.        ]\n",
      "\n",
      "agent first 10 values of actor weights[2]: \n",
      "[-0.02615911 -0.02615911 -0.02615911 -0.02615911 -0.02615911 -0.02615911\n",
      " -0.02615911 -0.02615911  0.          0.        ]\n",
      "\n",
      "agent first 10 values of critic weights: \n",
      "[-0.39238658 -0.39238658 -0.39238658 -0.39238658 -0.39238658 -0.39238658\n",
      " -0.39238658 -0.39238658  0.          0.        ]\n"
     ]
    }
   ],
   "source": [
    "# Do not modify this cell!\n",
    "\n",
    "## Test Code for agent_step() ## \n",
    "# Make sure agent_start() and agent_policy() are working correctly first.\n",
    "# agent_step() should work correctly for other arbitrary state transitions in addition to this test case.\n",
    "\n",
    "env_info = {\"seed\": 99}\n",
    "agent_info = {\"iht_size\": 4096,\n",
    "              \"num_tilings\": 8,\n",
    "              \"num_tiles\": 8,\n",
    "              \"actor_step_size\": 1e-1,\n",
    "              \"critic_step_size\": 1e-0,\n",
    "              \"avg_reward_step_size\": 1e-2,\n",
    "              \"num_actions\": 3,\n",
    "              \"seed\": 99}\n",
    "\n",
    "test_env = PendulumEnvironment\n",
    "test_agent = ActorCriticSoftmaxAgent\n",
    "\n",
    "rl_glue = RLGlue(test_env, test_agent)\n",
    "rl_glue.rl_init(agent_info, env_info)\n",
    "\n",
    "# start env/agent\n",
    "rl_glue.rl_start()\n",
    "rl_glue.rl_step()\n",
    "\n",
    "print(\"agent next_action: {}\".format(rl_glue.agent.last_action))\n",
    "print(\"agent avg reward: {}\\n\".format(rl_glue.agent.avg_reward))\n",
    "print(\"agent first 10 values of actor weights[0]: \\n{}\\n\".format(rl_glue.agent.actor_w[0][:10]))\n",
    "print(\"agent first 10 values of actor weights[1]: \\n{}\\n\".format(rl_glue.agent.actor_w[1][:10]))\n",
    "print(\"agent first 10 values of actor weights[2]: \\n{}\\n\".format(rl_glue.agent.actor_w[2][:10]))\n",
    "print(\"agent first 10 values of critic weights: \\n{}\".format(rl_glue.agent.critic_w[:10]))\n"
   ]
  },
  {
   "cell_type": "markdown",
   "metadata": {
    "deletable": false,
    "editable": false,
    "nbgrader": {
     "checksum": "9d4691943e3a97a619875655bef00a2e",
     "grade": false,
     "grade_id": "cell-feab2079de2e1fc0",
     "locked": true,
     "schema_version": 1,
     "solution": false
    }
   },
   "source": [
    "**Expected output**: \n",
    "    \n",
    "    agent next_action: 1\n",
    "    agent avg reward: -0.03139092653589793\n",
    "\n",
    "    agent first 10 values of actor weights[0]: \n",
    "    [0.01307955 0.01307955 0.01307955 0.01307955 0.01307955 0.01307955\n",
    "     0.01307955 0.01307955 0.         0.        ]\n",
    "\n",
    "    agent first 10 values of actor weights[1]: \n",
    "    [0.01307955 0.01307955 0.01307955 0.01307955 0.01307955 0.01307955\n",
    "     0.01307955 0.01307955 0.         0.        ]\n",
    "\n",
    "    agent first 10 values of actor weights[2]: \n",
    "    [-0.02615911 -0.02615911 -0.02615911 -0.02615911 -0.02615911 -0.02615911\n",
    "     -0.02615911 -0.02615911  0.          0.        ]\n",
    "\n",
    "    agent first 10 values of critic weights: \n",
    "    [-0.39238658 -0.39238658 -0.39238658 -0.39238658 -0.39238658 -0.39238658\n",
    "     -0.39238658 -0.39238658  0.          0.        ]"
   ]
  },
  {
   "cell_type": "markdown",
   "metadata": {
    "deletable": false,
    "editable": false,
    "nbgrader": {
     "checksum": "9bf003af9552ea8cf02c5a3e69f91d4f",
     "grade": false,
     "grade_id": "cell-4a2937aee7e48fe0",
     "locked": true,
     "schema_version": 1,
     "solution": false
    }
   },
   "source": [
    "## Section 3: Run Experiment\n",
    "\n",
    "Now that we've implemented all the components of environment and agent, let's run an experiment! \n",
    "We want to see whether our agent is successful at learning the optimal policy of balancing the pendulum upright. We will plot total return over time, as well as the exponential average of the reward over time. We also do multiple runs in order to be confident about our results.  \n",
    "\n",
    "The experiment/plot code is provided in the cell below."
   ]
  },
  {
   "cell_type": "code",
   "execution_count": 9,
   "metadata": {
    "deletable": false,
    "editable": false,
    "nbgrader": {
     "checksum": "86aa230c2ce8ef9fbd0b5022c72515f6",
     "grade": false,
     "grade_id": "cell-42b7e0b38d1ead4c",
     "locked": true,
     "schema_version": 1,
     "solution": false
    }
   },
   "outputs": [],
   "source": [
    "# Do not modify this cell!\n",
    "\n",
    "# Define function to run experiment\n",
    "def run_experiment(environment, agent, environment_parameters, agent_parameters, experiment_parameters):\n",
    "\n",
    "    rl_glue = RLGlue(environment, agent)\n",
    "            \n",
    "    # sweep agent parameters\n",
    "    for num_tilings in agent_parameters['num_tilings']:\n",
    "        for num_tiles in agent_parameters[\"num_tiles\"]:\n",
    "            for actor_ss in agent_parameters[\"actor_step_size\"]:\n",
    "                for critic_ss in agent_parameters[\"critic_step_size\"]:\n",
    "                    for avg_reward_ss in agent_parameters[\"avg_reward_step_size\"]:\n",
    "                        \n",
    "                        env_info = {}\n",
    "                        agent_info = {\"num_tilings\": num_tilings,\n",
    "                                      \"num_tiles\": num_tiles,\n",
    "                                      \"actor_step_size\": actor_ss,\n",
    "                                      \"critic_step_size\": critic_ss,\n",
    "                                      \"avg_reward_step_size\": avg_reward_ss,\n",
    "                                      \"num_actions\": agent_parameters[\"num_actions\"],\n",
    "                                      \"iht_size\": agent_parameters[\"iht_size\"]}            \n",
    "            \n",
    "                        # results to save\n",
    "                        return_per_step = np.zeros((experiment_parameters[\"num_runs\"], experiment_parameters[\"max_steps\"]))\n",
    "                        exp_avg_reward_per_step = np.zeros((experiment_parameters[\"num_runs\"], experiment_parameters[\"max_steps\"]))\n",
    "\n",
    "                        # using tqdm we visualize progress bars \n",
    "                        for run in tqdm(range(1, experiment_parameters[\"num_runs\"]+1)):\n",
    "                            env_info[\"seed\"] = run\n",
    "                            agent_info[\"seed\"] = run\n",
    "                \n",
    "                            rl_glue.rl_init(agent_info, env_info)\n",
    "                            rl_glue.rl_start()\n",
    "\n",
    "                            num_steps = 0\n",
    "                            total_return = 0.\n",
    "                            return_arr = []\n",
    "\n",
    "                            # exponential average reward without initial bias\n",
    "                            exp_avg_reward = 0.0\n",
    "                            exp_avg_reward_ss = 0.01\n",
    "                            exp_avg_reward_normalizer = 0\n",
    "\n",
    "                            while num_steps < experiment_parameters['max_steps']:\n",
    "                                num_steps += 1\n",
    "                                \n",
    "                                rl_step_result = rl_glue.rl_step()\n",
    "                                \n",
    "                                reward = rl_step_result[0]\n",
    "                                total_return += reward\n",
    "                                return_arr.append(reward)\n",
    "                                avg_reward = rl_glue.rl_agent_message(\"get avg reward\")\n",
    "\n",
    "                                exp_avg_reward_normalizer = exp_avg_reward_normalizer + exp_avg_reward_ss * (1 - exp_avg_reward_normalizer)\n",
    "                                ss = exp_avg_reward_ss / exp_avg_reward_normalizer\n",
    "                                exp_avg_reward += ss * (reward - exp_avg_reward)\n",
    "                                \n",
    "                                return_per_step[run-1][num_steps-1] = total_return\n",
    "                                exp_avg_reward_per_step[run-1][num_steps-1] = exp_avg_reward\n",
    "                                                        \n",
    "                        if not os.path.exists('results'):\n",
    "                            os.makedirs('results')\n",
    "                \n",
    "                        save_name = \"ActorCriticSoftmax_tilings_{}_tiledim_{}_actor_ss_{}_critic_ss_{}_avg_reward_ss_{}\".format(num_tilings, num_tiles, actor_ss, critic_ss, avg_reward_ss)\n",
    "                        total_return_filename = \"results/{}_total_return.npy\".format(save_name)\n",
    "                        exp_avg_reward_filename = \"results/{}_exp_avg_reward.npy\".format(save_name)\n",
    "\n",
    "                        np.save(total_return_filename, return_per_step)\n",
    "                        np.save(exp_avg_reward_filename, exp_avg_reward_per_step)\n",
    "                        "
   ]
  },
  {
   "cell_type": "markdown",
   "metadata": {
    "deletable": false,
    "editable": false,
    "nbgrader": {
     "checksum": "569a57d760604a84cdb04d53ecfefede",
     "grade": false,
     "grade_id": "cell-bea80af13342f057",
     "locked": true,
     "schema_version": 1,
     "solution": false
    }
   },
   "source": [
    "## Section 3-1: Run Experiment with 32 tilings, size 8x8\n",
    "\n",
    "We will first test our implementation using 32 tilings, of size 8x8. We saw from the earlier assignment using tile-coding that many tilings promote fine discrimination, and broad tiles allows more generalization.\n",
    "We conducted a wide sweep of meta-parameters in order to find the best meta-parameters for our Pendulum Swing-up task. \n",
    "\n",
    "We swept over the following range of meta-parameters and the best meta-parameter is boldfaced below:\n",
    "\n",
    "actor step-size: $\\{\\frac{2^{-6}}{32}, \\frac{2^{-5}}{32}, \\frac{2^{-4}}{32}, \\frac{2^{-3}}{32}, \\mathbf{\\frac{2^{-2}}{32}}, \\frac{2^{-1}}{32}, \\frac{2^{0}}{32}, \\frac{2^{1}}{32}\\}$\n",
    "\n",
    "critic step-size: $\\{\\frac{2^{-4}}{32}, \\frac{2^{-3}}{32}, \\frac{2^{-2}}{32}, \\frac{2^{-1}}{32}, \\frac{2^{0}}{32}, \\mathbf{\\frac{2^{1}}{32}}, \\frac{3}{32}, \\frac{2^{2}}{32}\\}$\n",
    "\n",
    "avg reward step-size: $\\{2^{-11}, 2^{-10} , 2^{-9} , 2^{-8}, 2^{-7}, \\mathbf{2^{-6}}, 2^{-5}, 2^{-4}, 2^{-3}, 2^{-2}\\}$  \n",
    "\n",
    "\n",
    "We will do 50 runs using the above best meta-parameter setting to verify your agent.\n",
    "Note that running the experiment cell below will take **_approximately 5 min_**.\n"
   ]
  },
  {
   "cell_type": "code",
   "execution_count": 10,
   "metadata": {
    "deletable": false,
    "editable": false,
    "nbgrader": {
     "checksum": "ff324b51dd0e1d7bdb47b9979f698bde",
     "grade": false,
     "grade_id": "cell-e9bf5a92d552cda5",
     "locked": true,
     "schema_version": 1,
     "solution": false
    }
   },
   "outputs": [
    {
     "name": "stderr",
     "output_type": "stream",
     "text": [
      "100%|██████████| 50/50 [02:43<00:00,  3.41s/it]\n"
     ]
    },
    {
     "data": {
      "image/png": "[encoded data removed]",
      "text/plain": [
       "<Figure size 864x1008 with 2 Axes>"
      ]
     },
     "metadata": {
      "needs_background": "light"
     },
     "output_type": "display_data"
    }
   ],
   "source": [
    "# Do not modify this cell!\n",
    "\n",
    "#### Run Experiment\n",
    "\n",
    "# Experiment parameters\n",
    "experiment_parameters = {\n",
    "    \"max_steps\" : 20000,\n",
    "    \"num_runs\" : 50\n",
    "}\n",
    "\n",
    "# Environment parameters\n",
    "environment_parameters = {}\n",
    "\n",
    "# Agent parameters\n",
    "# Each element is an array because we will be later sweeping over multiple values\n",
    "# actor and critic step-sizes are divided by num. tilings inside the agent\n",
    "agent_parameters = {\n",
    "    \"num_tilings\": [32],\n",
    "    \"num_tiles\": [8],\n",
    "    \"actor_step_size\": [2**(-2)],\n",
    "    \"critic_step_size\": [2**1],\n",
    "    \"avg_reward_step_size\": [2**(-6)],\n",
    "    \"num_actions\": 3,\n",
    "    \"iht_size\": 4096\n",
    "}\n",
    "\n",
    "current_env = PendulumEnvironment\n",
    "current_agent = ActorCriticSoftmaxAgent\n",
    "\n",
    "\n",
    "run_experiment(current_env, current_agent, environment_parameters, agent_parameters, experiment_parameters)\n",
    "plot_script.plot_result(agent_parameters, 'results')"
   ]
  },
  {
   "cell_type": "markdown",
   "metadata": {
    "deletable": false,
    "editable": false,
    "nbgrader": {
     "checksum": "2d162faa4b5808751fcb4433bbd81b7c",
     "grade": false,
     "grade_id": "cell-7cfde5a470e987d7",
     "locked": true,
     "schema_version": 1,
     "solution": false
    }
   },
   "source": [
    "Run the following code to verify your experimental result."
   ]
  },
  {
   "cell_type": "code",
   "execution_count": 11,
   "metadata": {
    "deletable": false,
    "editable": false,
    "nbgrader": {
     "checksum": "dd5614163afa480e8e49fd89e7a43c36",
     "grade": true,
     "grade_id": "graded_exp_result",
     "locked": true,
     "points": 30,
     "schema_version": 1,
     "solution": false
    }
   },
   "outputs": [
    {
     "name": "stdout",
     "output_type": "stream",
     "text": [
      "Your experiment results are correct!\n"
     ]
    }
   ],
   "source": [
    "# Do not modify this cell!\n",
    "\n",
    "## Test Code for experimental result ##\n",
    "filename = 'ActorCriticSoftmax_tilings_32_tiledim_8_actor_ss_0.25_critic_ss_2_avg_reward_ss_0.015625_exp_avg_reward'\n",
    "agent_exp_avg_reward = np.load('results/{}.npy'.format(filename))\n",
    "result_med = np.median(agent_exp_avg_reward, axis=0)\n",
    "\n",
    "answer_range = np.load('correct_npy/exp_avg_reward_answer_range.npy')\n",
    "upper_bound = answer_range.item()['upper-bound']\n",
    "lower_bound = answer_range.item()['lower-bound']\n",
    "\n",
    "# check if result is within answer range\n",
    "all_correct = np.all(result_med <= upper_bound) and np.all(result_med >= lower_bound)\n",
    "\n",
    "if all_correct:\n",
    "    print(\"Your experiment results are correct!\")\n",
    "else:\n",
    "    print(\"Your experiment results does not match with ours. Please check if you have implemented all methods correctly.\")\n",
    "    \n",
    "    "
   ]
  },
  {
   "cell_type": "markdown",
   "metadata": {
    "deletable": false,
    "editable": false,
    "nbgrader": {
     "checksum": "44295b14742f975bfb7fcd14ec123ebb",
     "grade": false,
     "grade_id": "cell-9081e37ad214f0b6",
     "locked": true,
     "schema_version": 1,
     "solution": false
    }
   },
   "source": [
    "## Section 3-2: Performance Metric and Meta-Parameter Sweeps\n",
    "\n",
    "\n",
    "### Performance Metric\n",
    "\n",
    "To evaluate performance, we plotted both the return and exponentially weighted average reward over time. \n",
    "\n",
    "In the first plot, the return is negative because the reward is negative at every state except when the pendulum is in the upright position. As the policy improves over time, the agent accumulates less negative reward, and thus the return decreases slowly. Towards the end the slope is almost flat indicating the policy has stabilized to a good policy. When using this plot however, it can be difficult to distinguish whether it has learned an optimal policy. The near-optimal policy in this Pendulum Swing-up Environment is to maintain the pendulum in the upright position indefinitely, getting near 0 reward at each time step. We would have to examine the slope of the curve but it can be hard to compare the slope of different curves.\n",
    "\n",
    "The second plot using exponential average reward gives a better visualization. We can see that towards the end the value is near 0, indicating it is getting near 0 reward at each time step. Here, the exponentially weighted average reward shouldn't be confused with the agent’s internal estimate of the average reward. To be more specific, we used an exponentially weighted average of the actual reward without initial bias (Refer to Exercise 2.7 from the textbook (p.35) to read more about removing the initial bias). If we used sample averages instead, later rewards would have decreasing impact on the average and would not be able to represent the agent's performance with respect to its current policy effectively.\n",
    "\n",
    "It is easier to see whether the agent has learned a good policy in the second plot than the first plot. If the learned policy is optimal, the exponential average reward would be close to 0.\n",
    "\n",
    "Furthermore, how did we pick the best meta-parameter from the sweeps? A common method would be to pick the meta-parameter that results in the largest Area Under the Curve (AUC). However, this is not always what we want. We want to find a set of meta-parameters that learns a good final policy. When using AUC as the criteria, we may pick meta-parameters that allows the agent to learn fast but converge to a worse policy. In our case, we selected the meta-parameter setting that obtained the most exponential average reward over the last 5000 time steps. \n",
    "\n",
    "\n",
    "### Parameter Sensitivity\n",
    "\n",
    "In addition to finding the best meta-parameters it is also equally important to plot **parameter sensitivity curves** to understand how our algorithm behaves.\n",
    "\n",
    "In our simulated Pendulum problem, we can extensively test our agent with different meta-parameter configurations but it would be quite expensive to do so in real life. Parameter sensitivity curves can provide us insight into how our algorithms might behave in general. It can help us identify a good range of each meta-parameters as well as how sensitive the performance is with respect to each meta-parameter.\n",
    "\n",
    "Here are the sensitivity curves for the three step-sizes we swept over:\n",
    "\n",
    "<img src=\"data/sensitivity_combined.png\" alt=\"Drawing\" style=\"width: 1000px;\"/>\n",
    "\n",
    "On the y-axis we use the performance measure, which is the average of the exponential average reward over the 5000 time steps, averaged over 50 different runs. On the x-axis is the meta-parameter we are testing. For the given meta-parameter, the remaining meta-parameters are chosen such that it obtains the best performance.\n",
    "\n",
    "The curves are quite rounded, indicating the agent performs well for these wide range of values. It indicates that the agent is not too sensitive to these meta-parameters. Furthermore, looking at the y-axis values we can observe that average reward step-size is particularly less sensitive than actor step-size and critic step-size.\n",
    "\n",
    "But how do we know that we have sufficiently covered a wide range of meta-parameters? It is important that the best value is not on the edge but in the middle of the meta-parameter sweep range in these sensitivity curves. Otherwise this may indicate that there could be better meta-parameter values that we did not sweep over."
   ]
  },
  {
   "cell_type": "markdown",
   "metadata": {
    "deletable": false,
    "editable": false,
    "nbgrader": {
     "checksum": "e679782b8781ed867e952ab2a8735ec1",
     "grade": false,
     "grade_id": "cell-e9c6a124eb3c37e6",
     "locked": true,
     "schema_version": 1,
     "solution": false
    }
   },
   "source": [
    "## Wrapping up\n",
    "\n",
    "### **Congratulations!** You have successfully implemented Course 3 Programming Assignment 4.\n",
    "\n",
    "\n",
    "You have implemented your own **Average Reward Actor-Critic with Softmax Policy** agent in the Pendulum Swing-up Environment. You implemented the environment based on information about the state/action space and transition dynamics. Furthermore, you have learned how to implement an agent in a continuing task using the average reward formulation. We parameterized the policy using softmax of action-preferences over discrete action spaces, and used Actor-Critic to learn the policy.\n",
    "\n",
    "\n",
    "To summarize, you have learned how to:\n",
    "    1. Implement softmax actor-critic agent on a continuing task using the average reward formulation.\n",
    "    2. Understand how to parameterize the policy as a function to learn, in a discrete action environment.\n",
    "    3. Understand how to (approximately) sample the gradient of this objective to update the actor.\n",
    "    4. Understand how to update the critic using differential TD error."
   ]
  }
 ],
 "metadata": {
  "coursera": {
   "course_slug": "prediction-control-function-approximation",
   "graded_item_id": "bHUHt",
   "launcher_item_id": "Igqsy"
  },
  "kernelspec": {
   "display_name": "Python 3",
   "language": "python",
   "name": "python3"
  },
  "language_info": {
   "codemirror_mode": {
    "name": "ipython",
    "version": 3
   },
   "file_extension": ".py",
   "mimetype": "text/x-python",
   "name": "python",
   "nbconvert_exporter": "python",
   "pygments_lexer": "ipython3",
   "version": "3.7.3"
  }
 },
 "nbformat": 4,
 "nbformat_minor": 2
}
